{
  "nbformat": 4,
  "nbformat_minor": 0,
  "metadata": {
    "colab": {
      "provenance": [],
      "authorship_tag": "ABX9TyMlTh1BPhSRPtWhzTM31Nfa",
      "include_colab_link": true
    },
    "kernelspec": {
      "name": "python3",
      "display_name": "Python 3"
    },
    "language_info": {
      "name": "python"
    }
  },
  "cells": [
    {
      "cell_type": "markdown",
      "metadata": {
        "id": "view-in-github",
        "colab_type": "text"
      },
      "source": [
        "<a href=\"https://colab.research.google.com/github/jespimentel/ia_gen_na_promotoria/blob/main/Scripts_auxiliares.ipynb\" target=\"_parent\"><img src=\"https://colab.research.google.com/assets/colab-badge.svg\" alt=\"Open In Colab\"/></a>"
      ]
    },
    {
      "cell_type": "code",
      "source": [
        "# Instala o ffmpeg\n",
        "!apt-get update\n",
        "!apt-get install -y ffmpeg"
      ],
      "metadata": {
        "colab": {
          "base_uri": "https://localhost:8080/"
        },
        "id": "Inu5wwablT6z",
        "outputId": "69970e9d-bf8f-43d1-d810-3f860451c0bc"
      },
      "execution_count": 1,
      "outputs": [
        {
          "output_type": "stream",
          "name": "stdout",
          "text": [
            "\r0% [Working]\r            \rHit:1 http://security.ubuntu.com/ubuntu jammy-security InRelease\n",
            "Hit:2 https://cloud.r-project.org/bin/linux/ubuntu jammy-cran40/ InRelease\n",
            "Hit:3 http://archive.ubuntu.com/ubuntu jammy InRelease\n",
            "Hit:4 https://r2u.stat.illinois.edu/ubuntu jammy InRelease\n",
            "Hit:5 https://developer.download.nvidia.com/compute/cuda/repos/ubuntu2204/x86_64  InRelease\n",
            "Hit:6 http://archive.ubuntu.com/ubuntu jammy-updates InRelease\n",
            "Hit:7 http://archive.ubuntu.com/ubuntu jammy-backports InRelease\n",
            "Hit:8 https://ppa.launchpadcontent.net/deadsnakes/ppa/ubuntu jammy InRelease\n",
            "Hit:9 https://ppa.launchpadcontent.net/graphics-drivers/ppa/ubuntu jammy InRelease\n",
            "Hit:10 https://ppa.launchpadcontent.net/ubuntugis/ppa/ubuntu jammy InRelease\n",
            "Reading package lists... Done\n",
            "W: Skipping acquire of configured file 'main/source/Sources' as repository 'https://r2u.stat.illinois.edu/ubuntu jammy InRelease' does not seem to provide it (sources.list entry misspelt?)\n",
            "Reading package lists... Done\n",
            "Building dependency tree... Done\n",
            "Reading state information... Done\n",
            "ffmpeg is already the newest version (7:4.4.2-0ubuntu0.22.04.1).\n",
            "0 upgraded, 0 newly installed, 0 to remove and 37 not upgraded.\n"
          ]
        }
      ]
    },
    {
      "cell_type": "code",
      "execution_count": 2,
      "metadata": {
        "id": "vVSGdmltSVl1",
        "colab": {
          "base_uri": "https://localhost:8080/"
        },
        "outputId": "286e6080-8879-46f3-dc54-6cda945e8e8e"
      },
      "outputs": [
        {
          "output_type": "stream",
          "name": "stdout",
          "text": [
            "Drive already mounted at /content/drive; to attempt to forcibly remount, call drive.mount(\"/content/drive\", force_remount=True).\n",
            "Pasta '/content/drive/MyDrive/trabalho_da_promotoria' já existe.\n"
          ]
        }
      ],
      "source": [
        "# prompt: Crie uma pasta no meu drive chamada \"trabalho_da_promotoria\", caso ela não exista\n",
        "\n",
        "from google.colab import drive\n",
        "import os\n",
        "\n",
        "drive.mount('/content/drive')\n",
        "\n",
        "# Define o caminho para a pasta no Google Drive\n",
        "pasta_trabalho = \"/content/drive/MyDrive/trabalho_da_promotoria\"\n",
        "\n",
        "# Verifica se a pasta já existe\n",
        "if not os.path.exists(pasta_trabalho):\n",
        "  # Cria a pasta se ela não existir\n",
        "  os.makedirs(pasta_trabalho)\n",
        "  print(f\"Pasta '{pasta_trabalho}' criada com sucesso.\")\n",
        "else:\n",
        "  print(f\"Pasta '{pasta_trabalho}' já existe.\")\n"
      ]
    },
    {
      "cell_type": "code",
      "source": [
        "# prompt: crie um script que converta arquivos \"asf\" carregados na pasta criada anteriormente em \"mp4\"\n",
        "import subprocess\n",
        "\n",
        "# Percorre todos os arquivos na pasta\n",
        "for filename in os.listdir(pasta_trabalho):\n",
        "    if filename.endswith(\".asf\"):\n",
        "        filepath = os.path.join(pasta_trabalho, filename)\n",
        "        output_filename = os.path.splitext(filename)[0] + \".mp4\"\n",
        "        output_filepath = os.path.join(pasta_trabalho, output_filename)\n",
        "\n",
        "        # Converte o arquivo ASF para MP4 usando ffmpeg\n",
        "        try:\n",
        "          subprocess.run(['ffmpeg', '-i', filepath, '-c:v', 'libx264', '-c:a', 'aac', '-strict', 'experimental', output_filepath], check=True)\n",
        "          print(f\"Arquivo '{filename}' convertido para '{output_filename}' com sucesso.\")\n",
        "        except subprocess.CalledProcessError as e:\n",
        "          print(f\"Erro ao converter '{filename}': {e}\")\n"
      ],
      "metadata": {
        "colab": {
          "base_uri": "https://localhost:8080/"
        },
        "id": "0UwPh9bgkIir",
        "outputId": "5190ec26-0f07-4467-b667-ad8544782bfd"
      },
      "execution_count": 3,
      "outputs": [
        {
          "output_type": "stream",
          "name": "stdout",
          "text": [
            "Arquivo 'audiencia_113954666_2_V.asf' convertido para 'audiencia_113954666_2_V.mp4' com sucesso.\n"
          ]
        }
      ]
    },
    {
      "cell_type": "code",
      "source": [
        "# prompt: crie um script que divida o arquivo mp4 em n segmentos, conforme a solicitação do usuário\n",
        "\n",
        "import subprocess\n",
        "\n",
        "def split_video(input_file, output_prefix, segments):\n",
        "  \"\"\"Splits a video into multiple segments using ffmpeg.\n",
        "\n",
        "  Args:\n",
        "    input_file: Path to the input MP4 file.\n",
        "    output_prefix: Prefix for the output segment files.\n",
        "    segments: Number of segments to split the video into.\n",
        "  \"\"\"\n",
        "  try:\n",
        "    duration = float(subprocess.check_output(['ffprobe', '-v', 'error', '-show_entries',\n",
        "                                            'format=duration', '-of',\n",
        "                                            'default=noprint_wrappers=1:nokey=1', input_file]).decode('utf-8').strip())\n",
        "    segment_duration = duration / segments\n",
        "\n",
        "    for i in range(segments):\n",
        "      start_time = i * segment_duration\n",
        "      end_time = (i + 1) * segment_duration\n",
        "      output_file = f\"{output_prefix}_segment_{i+1}.mp4\"\n",
        "      command = [\n",
        "          'ffmpeg', '-i', input_file, '-ss', str(start_time), '-to', str(end_time),\n",
        "          '-c', 'copy', output_file\n",
        "      ]\n",
        "      subprocess.run(command, check=True)\n",
        "      print(f\"Segment {i+1} created: {output_file}\")\n",
        "\n",
        "  except subprocess.CalledProcessError as e:\n",
        "    print(f\"Error splitting video: {e}\")\n",
        "  except FileNotFoundError:\n",
        "    print(\"ffmpeg not found. Please install ffmpeg.\")\n",
        "  except Exception as e:\n",
        "    print(f\"An unexpected error occurred: {e}\")\n",
        "\n",
        "\n",
        "# Example usage (replace with your file path, output prefix and desired number of segments)\n",
        "input_video_path = \"/content/drive/MyDrive/trabalho_da_promotoria/audiencia_113954666_2_V.mp4\"  # Substitua pelo caminho do seu vídeo\n",
        "output_prefix = \"/content/drive/MyDrive/trabalho_da_promotoria/output_video\"  # Prefixo para os arquivos de saída\n",
        "num_segments = 3 # Número de segmentos\n",
        "\n",
        "split_video(input_video_path, output_prefix, num_segments)\n"
      ],
      "metadata": {
        "colab": {
          "base_uri": "https://localhost:8080/"
        },
        "id": "UJ-PH488mVOm",
        "outputId": "8d21d0e7-0576-491b-ad54-fed8f46fd639"
      },
      "execution_count": 4,
      "outputs": [
        {
          "output_type": "stream",
          "name": "stdout",
          "text": [
            "Segment 1 created: /content/drive/MyDrive/trabalho_da_promotoria/output_video_segment_1.mp4\n",
            "Segment 2 created: /content/drive/MyDrive/trabalho_da_promotoria/output_video_segment_2.mp4\n",
            "Segment 3 created: /content/drive/MyDrive/trabalho_da_promotoria/output_video_segment_3.mp4\n"
          ]
        }
      ]
    }
  ]
}